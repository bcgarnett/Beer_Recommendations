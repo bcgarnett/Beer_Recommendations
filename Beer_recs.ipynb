{
 "cells": [
  {
   "cell_type": "code",
   "execution_count": 2,
   "metadata": {},
   "outputs": [],
   "source": [
    "import pandas as pd\n",
    "import numpy as np\n",
    "X = np.load('beer_features.npy')\n",
    "mu = np.load('avg_ratings.npy')\n",
    "data = open('Beer_List.csv',\"r\")\n",
    "Beer_Line = data.readline()\n",
    "Beer_List = Beer_Line.split(',')\n",
    "data.close()\n",
    "beer_dict = {}\n",
    "for i in range(0,len(Beer_List)):\n",
    "    beer_dict[Beer_List[i]]=i"
   ]
  },
  {
   "cell_type": "code",
   "execution_count": 3,
   "metadata": {},
   "outputs": [
    {
     "name": "stdout",
     "output_type": "stream",
     "text": [
      "\"yuengling traditional lager\" has id 2338\n"
     ]
    }
   ],
   "source": [
    "#Some indices of beers, others can be searched for\n",
    "yuengling = 2338\n",
    "blue_moon= 1385\n",
    "pbr = 2217\n",
    "sam_adams = 298\n",
    "guinness = 18961\n",
    "corona = 7324\n",
    "corona_light = 7376\n",
    "lh_milk_stout_nitro = 28440\n",
    "allagash_10th_ann = 7754\n",
    "budweiser = 12932\n",
    "\n",
    "#to search for a beer\n",
    "for i in range(0,len(Beer_List)):\n",
    "    This_beer = Beer_List[i].lower()\n",
    "    if \"yuengling traditional\" in This_beer:\n",
    "        print(This_beer + \" has id \" + str(i))"
   ]
  },
  {
   "cell_type": "code",
   "execution_count": 6,
   "metadata": {},
   "outputs": [],
   "source": [
    "#Can Change these ratings or add others\n",
    "#Rate from 1 to 5\n",
    "#0 is equivalent to no rating\n",
    "rating = {}\n",
    "rating[allagash_10th_ann] = 4\n",
    "rating[lh_milk_stout_nitro] = 4\n",
    "rating[blue_moon] = 3.5\n",
    "rating[yuengling] = 2.5\n",
    "rating[pbr] = 2.5\n",
    "rating[sam_adams] = 2.5\n",
    "rating[guinness] = 2\n",
    "rating[corona] = 2\n",
    "rating[budweiser] = 1\n",
    "\n",
    "#insert id and rating for new_beer\n",
    "new_beer_id = 0\n",
    "rating[new_beer_id] = 0"
   ]
  },
  {
   "cell_type": "code",
   "execution_count": 7,
   "metadata": {},
   "outputs": [
    {
     "data": {
      "text/plain": [
       "'\"Paddler\\'s Pale Ale\"'"
      ]
     },
     "execution_count": 7,
     "metadata": {},
     "output_type": "execute_result"
    }
   ],
   "source": [
    "#Can generate random beer and rate below (1-5)\n",
    "random_num = np.random.randint(len(Beer_List))\n",
    "random_beer = Beer_List[random_num]\n",
    "random_beer"
   ]
  },
  {
   "cell_type": "code",
   "execution_count": 8,
   "metadata": {},
   "outputs": [],
   "source": [
    "rating[random_beer] = 0"
   ]
  },
  {
   "cell_type": "code",
   "execution_count": 10,
   "metadata": {},
   "outputs": [],
   "source": [
    "#Creating ratings vector and random feature preference vector\n",
    "new_drinker = []\n",
    "rated = []\n",
    "for i in range(0,29637):\n",
    "    if i in rating.keys():\n",
    "        new_drinker.append(rating[i]-mu[i])\n",
    "        rated.append(1)\n",
    "    else:\n",
    "        new_drinker.append(-mu[i])\n",
    "        rated.append(0)\n",
    "y = np.array(new_drinker)\n",
    "R = np.array(rated)\n",
    "Theta = []\n",
    "for i in range(0,10):\n",
    "    Theta.append(np.random.random()/10)\n",
    "Theta = np.array(Theta)\n",
    "\n",
    "def GradDescent(X,Theta,y,R):\n",
    "    Thetagrad = np.subtract(.995*Theta,.005*np.matmul(np.matrix.transpose(np.multiply(R,np.subtract(np.matmul(X,Theta),y))),X))\n",
    "    return Thetagrad"
   ]
  },
  {
   "cell_type": "code",
   "execution_count": 22,
   "metadata": {},
   "outputs": [],
   "source": [
    "#Adapt features vector\n",
    "for iter in range(0,500):\n",
    "    Theta = GradDescent(X,Theta,y,R)\n",
    "    \n",
    "Predicted = np.matmul(X,Theta)+mu"
   ]
  },
  {
   "cell_type": "code",
   "execution_count": 29,
   "metadata": {},
   "outputs": [
    {
     "name": "stdout",
     "output_type": "stream",
     "text": [
      "We predict you would like these beers: \n",
      " \"JennaGrace Hefeweizen/American Wheat\" : 5.07\n",
      " \"Copper Penny Scottish Ale\" : 5.17\n",
      " \"Florisgaarden Fraise\" : 5.04\n",
      " \"'t Smisje IPA+\" : 5.07\n",
      " \"Marks & Spencer Sussex Bitter\" : 5.07\n",
      " \"Biere De Pharaoh\" : 5.03\n",
      "\n",
      "We predict you would not like these beers: \n",
      " \"Smoked Hefeweizen\" : 0.78\n",
      " \"Chi Golden Speciale\" : 0.88\n",
      " \"Elevator Horus\" : 0.89\n",
      "\n"
     ]
    }
   ],
   "source": [
    "good_string = \"\"\n",
    "bad_string = \"\"\n",
    "for i in range(0,20000):\n",
    "    #Can change thresholds\n",
    "    good_threshold = 5.03\n",
    "    bad_threshold = 0.89\n",
    "    if Predicted[i] > good_threshold:\n",
    "        good_string = good_string + \" \" + Beer_List[i] + \" : \" + str(round(Predicted[i],2)) + \"\\n\"\n",
    "    if Predicted[i] < bad_threshold:\n",
    "        bad_string = bad_string + \" \" + Beer_List[i] + \" : \" + str(round(Predicted[i],2)) + \"\\n\"\n",
    "        \n",
    "print(\"We predict you would like these beers: \")\n",
    "print(good_string)\n",
    "print(\"We predict you would not like these beers: \")\n",
    "print(bad_string)\n",
    "\n",
    "other_ratings = \"\""
   ]
  },
  {
   "cell_type": "code",
   "execution_count": 31,
   "metadata": {},
   "outputs": [
    {
     "name": "stdout",
     "output_type": "stream",
     "text": [
      " \"Atlas India Pale Ale\" : 3.42\n",
      " \"Blue Top Porter\" : 4.41\n",
      "\n"
     ]
    }
   ],
   "source": [
    "random_num = np.random.randint(len(Beer_List))\n",
    "random_beer = Beer_List[random_num]\n",
    "random_beer\n",
    "other_ratings = other_ratings + \" \" + random_beer + \" : \" + str(round(Predicted[random_num],2)) + \"\\n\"\n",
    "print(other_ratings)"
   ]
  },
  {
   "cell_type": "code",
   "execution_count": null,
   "metadata": {},
   "outputs": [],
   "source": []
  }
 ],
 "metadata": {
  "kernelspec": {
   "display_name": "Python 3",
   "language": "python",
   "name": "python3"
  },
  "language_info": {
   "codemirror_mode": {
    "name": "ipython",
    "version": 3
   },
   "file_extension": ".py",
   "mimetype": "text/x-python",
   "name": "python",
   "nbconvert_exporter": "python",
   "pygments_lexer": "ipython3",
   "version": "3.7.3"
  }
 },
 "nbformat": 4,
 "nbformat_minor": 2
}
