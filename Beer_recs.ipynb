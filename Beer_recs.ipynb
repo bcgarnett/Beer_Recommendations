{
 "cells": [
  {
   "cell_type": "code",
   "execution_count": 56,
   "metadata": {},
   "outputs": [],
   "source": [
    "import pandas as pd\n",
    "import numpy as np\n",
    "X = np.load('beer_features.npy')\n",
    "mu = np.load('avg_ratings.npy')\n",
    "data = open('Beer_List.csv',\"r\")\n",
    "Beer_Line = data.readline()\n",
    "Beer_List = Beer_Line.split(',')\n",
    "data.close()\n",
    "beer_dict = {}\n",
    "for i in range(0,len(Beer_List)):\n",
    "    beer_dict[Beer_List[i]]=i"
   ]
  },
  {
   "cell_type": "code",
   "execution_count": 57,
   "metadata": {},
   "outputs": [
    {
     "name": "stdout",
     "output_type": "stream",
     "text": [
      "\"yuengling traditional lager\" has id 2338\n"
     ]
    }
   ],
   "source": [
    "#Some indices of beers, others can be searched for\n",
    "sierra_nevada = 9213\n",
    "yuengling = 2338\n",
    "blue_moon= 1385\n",
    "pbr = 2217\n",
    "sam_adams = 298\n",
    "guinness = 18961\n",
    "corona = 7324\n",
    "corona_light = 7376\n",
    "lh_milk_stout_nitro = 28440\n",
    "allagash_10th_ann = 7754\n",
    "budweiser = 12932\n",
    "neapolitan_stout = 26956\n",
    "\n",
    "#to search for a beer\n",
    "for i in range(0,len(Beer_List)):\n",
    "    This_beer = Beer_List[i].lower()\n",
    "    if \"yuengling traditional\" in This_beer:\n",
    "        print(This_beer + \" has id \" + str(i))"
   ]
  },
  {
   "cell_type": "code",
   "execution_count": 58,
   "metadata": {},
   "outputs": [],
   "source": [
    "#Can Change these ratings or add others\n",
    "#Rate from 1 to 5\n",
    "#0 is equivalent to no rating\n",
    "rating = {}\n",
    "rating[neapolitan_stout] = 4.5\n",
    "rating[sierra_nevada] = 3\n",
    "rating[allagash_10th_ann] = 4\n",
    "rating[lh_milk_stout_nitro] = 4\n",
    "rating[blue_moon] = 3.5\n",
    "rating[yuengling] = 2.5\n",
    "rating[pbr] = 2.5\n",
    "rating[sam_adams] = 2.5\n",
    "rating[guinness] = 2\n",
    "rating[corona] = 2\n",
    "rating[budweiser] = 1\n",
    "\n",
    "#insert id and rating for new_beer\n",
    "new_beer_id = 0\n",
    "rating[new_beer_id] = 0"
   ]
  },
  {
   "cell_type": "code",
   "execution_count": 59,
   "metadata": {},
   "outputs": [
    {
     "data": {
      "text/plain": [
       "'\"Grizzly Peak Oktoberfest\"'"
      ]
     },
     "execution_count": 59,
     "metadata": {},
     "output_type": "execute_result"
    }
   ],
   "source": [
    "#Can generate random beer and rate below (1-5)\n",
    "random_num = np.random.randint(len(Beer_List))\n",
    "random_beer = Beer_List[random_num]\n",
    "random_beer"
   ]
  },
  {
   "cell_type": "code",
   "execution_count": 60,
   "metadata": {},
   "outputs": [],
   "source": [
    "rating[random_beer] = 0"
   ]
  },
  {
   "cell_type": "code",
   "execution_count": 61,
   "metadata": {},
   "outputs": [],
   "source": [
    "#Creating ratings vector and random feature preference vector\n",
    "new_drinker = []\n",
    "rated = []\n",
    "num_beers = len(Beer_List)\n",
    "for i in range(0,num_beers):\n",
    "    if i in rating.keys():\n",
    "        new_drinker.append(rating[i]-mu[i])\n",
    "        rated.append(1)\n",
    "    else:\n",
    "        new_drinker.append(-mu[i])\n",
    "        rated.append(0)\n",
    "y = np.array(new_drinker)\n",
    "R = np.array(rated)\n",
    "Theta = []\n",
    "for i in range(0,10):\n",
    "    Theta.append(np.random.random()/10)\n",
    "Theta = np.array(Theta)\n",
    "\n",
    "def GradDescent(X,Theta,y,R):\n",
    "    Thetagrad = np.subtract(.995*Theta,.005*np.matmul(np.matrix.transpose(np.multiply(R,np.subtract(np.matmul(X,Theta),y))),X))\n",
    "    return Thetagrad"
   ]
  },
  {
   "cell_type": "code",
   "execution_count": 62,
   "metadata": {},
   "outputs": [],
   "source": [
    "#Adapt features vector\n",
    "for iter in range(0,5000):\n",
    "    Theta = GradDescent(X,Theta,y,R)\n",
    "    \n",
    "Predicted = np.matmul(X,Theta)+mu"
   ]
  },
  {
   "cell_type": "code",
   "execution_count": 64,
   "metadata": {},
   "outputs": [
    {
     "name": "stdout",
     "output_type": "stream",
     "text": [
      "We predict you would like these beers: \n",
      " \"Susquehanna Chocolate Cherry Stout\" : 5.0\n",
      " \"Miller High Life Ice\" : 5.02\n",
      " \"Alaskan Winter Ale\" : 5.01\n",
      " \"Splügen\" : 5.0\n",
      " \"Lvivske Svitle\" : 5.01\n",
      " \"Bowen Island Hemp Blonde Ale\" : 5.0\n",
      "\n",
      "We predict you would not like these beers: \n",
      " \"Dunkelbock\" : 0.78\n",
      " \"Smoked Hefeweizen\" : 0.89\n",
      " \"Endless Summer Ale\" : 0.86\n",
      " \"Devil's Dyke\" : 0.88\n",
      "\n"
     ]
    }
   ],
   "source": [
    "good_string = \"\"\n",
    "bad_string = \"\"\n",
    "for i in range(0,num_beers):\n",
    "    #Can change thresholds\n",
    "    good_threshold = 5.0\n",
    "    bad_threshold = 0.89\n",
    "    if Predicted[i] > good_threshold:\n",
    "        good_string = good_string + \" \" + Beer_List[i] + \" : \" + str(round(Predicted[i],2)) + \"\\n\"\n",
    "    if Predicted[i] < bad_threshold:\n",
    "        bad_string = bad_string + \" \" + Beer_List[i] + \" : \" + str(round(Predicted[i],2)) + \"\\n\"\n",
    "        \n",
    "print(\"We predict you would like these beers: \")\n",
    "print(good_string)\n",
    "print(\"We predict you would not like these beers: \")\n",
    "print(bad_string)\n",
    "\n",
    "other_ratings = \"\""
   ]
  },
  {
   "cell_type": "code",
   "execution_count": 66,
   "metadata": {},
   "outputs": [
    {
     "name": "stdout",
     "output_type": "stream",
     "text": [
      " \"Gubernija Duonos Gira Kvass\" : 4.45\n",
      " \"City Steam The Flower Of Edinburgh\" : 3.9\n",
      "\n"
     ]
    }
   ],
   "source": [
    "random_num = np.random.randint(len(Beer_List))\n",
    "random_beer = Beer_List[random_num]\n",
    "random_beer\n",
    "other_ratings = other_ratings + \" \" + random_beer + \" : \" + str(round(Predicted[random_num],2)) + \"\\n\"\n",
    "print(other_ratings)"
   ]
  },
  {
   "cell_type": "code",
   "execution_count": null,
   "metadata": {},
   "outputs": [],
   "source": []
  }
 ],
 "metadata": {
  "kernelspec": {
   "display_name": "Python 3",
   "language": "python",
   "name": "python3"
  },
  "language_info": {
   "codemirror_mode": {
    "name": "ipython",
    "version": 3
   },
   "file_extension": ".py",
   "mimetype": "text/x-python",
   "name": "python",
   "nbconvert_exporter": "python",
   "pygments_lexer": "ipython3",
   "version": "3.7.3"
  }
 },
 "nbformat": 4,
 "nbformat_minor": 2
}
